{
 "cells": [
  {
   "cell_type": "markdown",
   "metadata": {},
   "source": [
    "# 0. TensorFlow Introduction: Preparation"
   ]
  },
  {
   "cell_type": "markdown",
   "metadata": {},
   "source": [
    "## 0-1. Prerequisites\n",
    "\n",
    "This codelab requires:\n",
    "\n",
    "- Mac OS X, Windows or Linux PC that is connected to the internet\n",
    "- Basic experience on Python and SQL programming\n"
   ]
  },
  {
   "cell_type": "markdown",
   "metadata": {},
   "source": [
    "## 1-1. Set up BigQuery\n",
    "\n",
    "Follow the [BigQuery Quickstart](https://cloud.google.com/bigquery/quickstart-web-ui) until you finish the section [Query a public dataset\n",
    "](https://cloud.google.com/bigquery/quickstart-web-ui#query_a_public_dataset). You can skip the other sections.\n",
    "\n",
    "![](https://cloud.google.com/bigquery/images/querysectionselected.png)"
   ]
  },
  {
   "cell_type": "markdown",
   "metadata": {},
   "source": [
    "## 1-2. Set up Cloud Datalab"
   ]
  },
  {
   "cell_type": "markdown",
   "metadata": {},
   "source": [
    "- Follow the instruction [Use the Datalab command line tool](https://cloud.google.com/datalab/docs/quickstarts). \n",
    "- **Important Note**: This will create a Google Compute Engine instance running on the cloud until you delete it. Please make sure to **[Delete the Datalab](https://cloud.google.com/datalab/docs/quickstarts#clean-up)** after finishing the codelab. If you leave Datalab running on the cloud, it possible **you will get charged** for it."
   ]
  },
  {
   "cell_type": "markdown",
   "metadata": {},
   "source": [
    "## 1-3. Open Datalab and sign in with your Google account\n",
    "\n",
    "- Once you opened Cloud Datalab on your browser, click the `Account` button at top right and click `Sign In` to sign in with your Google account.\n",
    "\n",
    "![](https://cloud.google.com/datalab/images/datalab-launch-sign-in.png)"
   ]
  },
  {
   "cell_type": "markdown",
   "metadata": {},
   "source": [
    "## 1-4. Learn Jupyter Notebook basics\n",
    "\n",
    "Follow the [Introduction to Notebooks](http://localhost:8081/notebooks/datalab/docs/intro/Introduction%20to%20Notebooks.ipynb) to learn basics of Jupyter Notebook."
   ]
  },
  {
   "cell_type": "markdown",
   "metadata": {},
   "source": [
    "## 1-5. Download the codelab materials\n",
    "\n",
    "- Click the Home icon in the list, then click `datalab` and `notebooks` folder\n",
    "- Click `Notebook` button at the top left menu to add a new Notebook\n",
    "- Add the following line to the first cell in the Notebook \n",
    "\n",
    "```\n",
    "!git clone https://github.com/kazunori279/TensorFlow-for-absolute-beginners\n",
    "```\n",
    "\n",
    "- Click `Run` menu to execute it. You will see the git command downloading the codelab material to Datalab folder\n",
    "\n",
    "![](images/download_codelab.png)\n",
    "\n",
    "- Open the `TensorFlow-for-absolute-beginners` folder created on the current folder"
   ]
  },
  {
   "cell_type": "markdown",
   "metadata": {},
   "source": [
    "# What's Next?\n",
    "\n",
    "Now you're ready to join the TensorFlow Introduction codelab. Please start the codelab from [1. Understanding neural network with TensorFlow Playground](1.%20Understanding%20neural%20network%20with%20TensorFlow%20Playground.ipynb)"
   ]
  }
 ],
 "metadata": {
  "kernelspec": {
   "display_name": "Python 2",
   "language": "python",
   "name": "python2"
  },
  "language_info": {
   "codemirror_mode": {
    "name": "ipython",
    "version": 2
   },
   "file_extension": ".py",
   "mimetype": "text/x-python",
   "name": "python",
   "nbconvert_exporter": "python",
   "pygments_lexer": "ipython2",
   "version": "2.7.9"
  }
 },
 "nbformat": 4,
 "nbformat_minor": 2
}
